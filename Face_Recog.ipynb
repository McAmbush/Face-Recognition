{
  "nbformat": 4,
  "nbformat_minor": 0,
  "metadata": {
    "colab": {
      "name": "Face Recog.ipynb",
      "provenance": [],
      "collapsed_sections": []
    },
    "kernelspec": {
      "name": "python3",
      "display_name": "Python 3"
    },
    "accelerator": "GPU"
  },
  "cells": [
    {
      "cell_type": "code",
      "metadata": {
        "id": "LxOmAtm7R5ZS",
        "colab_type": "code",
        "outputId": "a80012e0-3839-4e01-f111-a4b447f4fad5",
        "colab": {
          "base_uri": "https://localhost:8080/",
          "height": 104
        }
      },
      "source": [
        "!git clone https://github.com/Skuldur/facenet-face-recognition"
      ],
      "execution_count": 1,
      "outputs": [
        {
          "output_type": "stream",
          "text": [
            "Cloning into 'facenet-face-recognition'...\n",
            "remote: Enumerating objects: 276, done.\u001b[K\n",
            "remote: Total 276 (delta 0), reused 0 (delta 0), pack-reused 276\u001b[K\n",
            "Receiving objects: 100% (276/276), 29.04 MiB | 2.73 MiB/s, done.\n",
            "Resolving deltas: 100% (23/23), done.\n"
          ],
          "name": "stdout"
        }
      ]
    },
    {
      "cell_type": "code",
      "metadata": {
        "id": "W7K2ysXT0xc5",
        "colab_type": "code",
        "colab": {
          "base_uri": "https://localhost:8080/",
          "height": 34
        },
        "outputId": "b77e6efe-144b-4fc6-c9cf-1129313e19d2"
      },
      "source": [
        "%tensorflow_version 1.x"
      ],
      "execution_count": 1,
      "outputs": [
        {
          "output_type": "stream",
          "text": [
            "TensorFlow 1.x selected.\n"
          ],
          "name": "stdout"
        }
      ]
    },
    {
      "cell_type": "code",
      "metadata": {
        "id": "XwAetGcK1RsG",
        "colab_type": "code",
        "colab": {}
      },
      "source": [
        ""
      ],
      "execution_count": 0,
      "outputs": []
    },
    {
      "cell_type": "code",
      "metadata": {
        "id": "2SpZ0SHCSNhx",
        "colab_type": "code",
        "outputId": "1a847fac-049e-4982-ab3a-d196a6434190",
        "colab": {
          "base_uri": "https://localhost:8080/",
          "height": 34
        }
      },
      "source": [
        "from keras.models import Sequential\n",
        "from keras.layers import Conv2D, ZeroPadding2D, Activation, Input, concatenate\n",
        "from keras.models import Model\n",
        "from keras.layers.normalization import BatchNormalization\n",
        "from keras.layers.pooling import MaxPooling2D, AveragePooling2D\n",
        "from keras.layers.merge import Concatenate\n",
        "from keras.layers.core import Lambda, Flatten, Dense\n",
        "from keras.initializers import glorot_uniform\n",
        "from keras.engine.topology import Layer\n",
        "from keras import backend as K\n",
        "K.set_image_data_format('channels_first')\n",
        "import cv2\n",
        "import os\n",
        "import numpy as np\n",
        "from numpy import genfromtxt\n",
        "import pandas as pd\n",
        "import tensorflow as tf"
      ],
      "execution_count": 2,
      "outputs": [
        {
          "output_type": "stream",
          "text": [
            "Using TensorFlow backend.\n"
          ],
          "name": "stderr"
        }
      ]
    },
    {
      "cell_type": "code",
      "metadata": {
        "id": "-uYxAYSf1SuO",
        "colab_type": "code",
        "colab": {
          "base_uri": "https://localhost:8080/",
          "height": 34
        },
        "outputId": "32a776f0-270a-487c-dca3-4d0abbe42c71"
      },
      "source": [
        "tf.__version__"
      ],
      "execution_count": 3,
      "outputs": [
        {
          "output_type": "execute_result",
          "data": {
            "text/plain": [
              "'1.15.2'"
            ]
          },
          "metadata": {
            "tags": []
          },
          "execution_count": 3
        }
      ]
    },
    {
      "cell_type": "code",
      "metadata": {
        "id": "oxIkNmxlSS29",
        "colab_type": "code",
        "colab": {}
      },
      "source": [
        "!cp /content/facenet-face-recognition/fr_utils.py /content"
      ],
      "execution_count": 0,
      "outputs": []
    },
    {
      "cell_type": "code",
      "metadata": {
        "id": "nYGhKgtHSlQX",
        "colab_type": "code",
        "colab": {}
      },
      "source": [
        "!cp /content/facenet-face-recognition/inception_blocks_v2.py /content"
      ],
      "execution_count": 0,
      "outputs": []
    },
    {
      "cell_type": "code",
      "metadata": {
        "id": "ovyzR-4DSqdw",
        "colab_type": "code",
        "colab": {}
      },
      "source": [
        "from fr_utils import *"
      ],
      "execution_count": 0,
      "outputs": []
    },
    {
      "cell_type": "code",
      "metadata": {
        "id": "SiTlVr-XSszo",
        "colab_type": "code",
        "colab": {}
      },
      "source": [
        "from inception_blocks_v2 import *"
      ],
      "execution_count": 0,
      "outputs": []
    },
    {
      "cell_type": "code",
      "metadata": {
        "id": "_fcfqRHcSxPx",
        "colab_type": "code",
        "outputId": "d6eb27da-53eb-4390-bb8c-3f0d580ad877",
        "colab": {
          "base_uri": "https://localhost:8080/",
          "height": 159
        }
      },
      "source": [
        "net = faceRecoModel(input_shape=(3,96,96))"
      ],
      "execution_count": 8,
      "outputs": [
        {
          "output_type": "stream",
          "text": [
            "WARNING:tensorflow:From /tensorflow-1.15.2/python3.6/tensorflow_core/python/ops/resource_variable_ops.py:1630: calling BaseResourceVariable.__init__ (from tensorflow.python.ops.resource_variable_ops) with constraint is deprecated and will be removed in a future version.\n",
            "Instructions for updating:\n",
            "If using Keras pass *_constraint arguments to layers.\n",
            "WARNING:tensorflow:From /usr/local/lib/python3.6/dist-packages/keras/backend/tensorflow_backend.py:4070: The name tf.nn.max_pool is deprecated. Please use tf.nn.max_pool2d instead.\n",
            "\n",
            "WARNING:tensorflow:From /usr/local/lib/python3.6/dist-packages/keras/backend/tensorflow_backend.py:4074: The name tf.nn.avg_pool is deprecated. Please use tf.nn.avg_pool2d instead.\n",
            "\n"
          ],
          "name": "stdout"
        }
      ]
    },
    {
      "cell_type": "code",
      "metadata": {
        "id": "xG0c3J-8z6t7",
        "colab_type": "code",
        "colab": {
          "base_uri": "https://localhost:8080/",
          "height": 34
        },
        "outputId": "63d75761-6b1a-46b2-dd14-526042f1c9e1"
      },
      "source": [
        "tf.config.experimental.list_physical_devices('GPU')"
      ],
      "execution_count": 8,
      "outputs": [
        {
          "output_type": "execute_result",
          "data": {
            "text/plain": [
              "[PhysicalDevice(name='/physical_device:GPU:0', device_type='GPU')]"
            ]
          },
          "metadata": {
            "tags": []
          },
          "execution_count": 8
        }
      ]
    },
    {
      "cell_type": "code",
      "metadata": {
        "id": "VJZpvZcgS0mJ",
        "colab_type": "code",
        "outputId": "864bd7ac-a29e-4eea-c633-293dccc7843b",
        "colab": {
          "base_uri": "https://localhost:8080/",
          "height": 34
        }
      },
      "source": [
        "net.count_params()"
      ],
      "execution_count": 9,
      "outputs": [
        {
          "output_type": "execute_result",
          "data": {
            "text/plain": [
              "3743280"
            ]
          },
          "metadata": {
            "tags": []
          },
          "execution_count": 9
        }
      ]
    },
    {
      "cell_type": "code",
      "metadata": {
        "id": "nzmK9JIyS3oN",
        "colab_type": "code",
        "colab": {}
      },
      "source": [
        "def triplet_loss(y_true,y_pred):\n",
        "    anchor,pos,neg = y_pred[0],y_pred[1],y_pred[2]\n",
        "    pos_loss = tf.reduce_sum(tf.square(tf.subtract(anchor,pos)),axis = -1)\n",
        "    neg_loss = tf.reduce_sum(tf.square(tf.subtract(anchor,neg)),axis = -1)\n",
        "    basic_loss = tf.add(tf.subtract(pos_loss,neg_loss),0.2)\n",
        "    loss = tf.reduce_sum(tf.maximum(basic_loss,0))\n",
        "    \n",
        "    return loss"
      ],
      "execution_count": 0,
      "outputs": []
    },
    {
      "cell_type": "code",
      "metadata": {
        "id": "Vu902fdQS7kd",
        "colab_type": "code",
        "colab": {}
      },
      "source": [
        "net.compile('adam',triplet_loss,['accuracy'])"
      ],
      "execution_count": 0,
      "outputs": []
    },
    {
      "cell_type": "code",
      "metadata": {
        "id": "aBmUI1GJ1xL_",
        "colab_type": "code",
        "colab": {}
      },
      "source": [
        "from fr_utils2 import *"
      ],
      "execution_count": 0,
      "outputs": []
    },
    {
      "cell_type": "code",
      "metadata": {
        "id": "lOm6YjaHTA7U",
        "colab_type": "code",
        "colab": {}
      },
      "source": [
        "load_weights_from_FaceNet(net)"
      ],
      "execution_count": 0,
      "outputs": []
    },
    {
      "cell_type": "code",
      "metadata": {
        "id": "ovTUdi-xTDYL",
        "colab_type": "code",
        "outputId": "0f0307d6-e0fb-4f94-9c67-24fcc0b3c4cd",
        "colab": {
          "base_uri": "https://localhost:8080/",
          "height": 541
        }
      },
      "source": [
        "!wget -r --no-parent https://htypnjukraoapyadvoydbh.coursera-apps.org/tree/week4/Face%20Recognition/images/"
      ],
      "execution_count": 13,
      "outputs": [
        {
          "output_type": "stream",
          "text": [
            "--2020-04-28 08:10:28--  https://htypnjukraoapyadvoydbh.coursera-apps.org/tree/week4/Face%20Recognition/images/\n",
            "Resolving htypnjukraoapyadvoydbh.coursera-apps.org (htypnjukraoapyadvoydbh.coursera-apps.org)... 34.193.180.235, 52.73.213.71\n",
            "Connecting to htypnjukraoapyadvoydbh.coursera-apps.org (htypnjukraoapyadvoydbh.coursera-apps.org)|34.193.180.235|:443... connected.\n",
            "HTTP request sent, awaiting response... 307 Temporary Redirect\n",
            "Location: https://hub.coursera-apps.org:443/connect/htypnjukraoapyadvoydbh?forceRefresh=false [following]\n",
            "--2020-04-28 08:10:29--  https://hub.coursera-apps.org/connect/htypnjukraoapyadvoydbh?forceRefresh=false\n",
            "Resolving hub.coursera-apps.org (hub.coursera-apps.org)... 52.73.213.71, 34.193.180.235\n",
            "Connecting to hub.coursera-apps.org (hub.coursera-apps.org)|52.73.213.71|:443... connected.\n",
            "HTTP request sent, awaiting response... 303 See Other\n",
            "Location: https://coursera.org/workspaces/authenticate/htypnjukraoapyadvoydbh?forceRefresh=false [following]\n",
            "--2020-04-28 08:10:29--  https://coursera.org/workspaces/authenticate/htypnjukraoapyadvoydbh?forceRefresh=false\n",
            "Resolving coursera.org (coursera.org)... 99.84.160.28, 99.84.160.117, 99.84.160.35, ...\n",
            "Connecting to coursera.org (coursera.org)|99.84.160.28|:443... connected.\n",
            "HTTP request sent, awaiting response... 301 Moved Permanently\n",
            "Location: https://www.coursera.org/workspaces/authenticate/htypnjukraoapyadvoydbh?forceRefresh=false [following]\n",
            "--2020-04-28 08:10:29--  https://www.coursera.org/workspaces/authenticate/htypnjukraoapyadvoydbh?forceRefresh=false\n",
            "Resolving www.coursera.org (www.coursera.org)... 13.226.18.63, 13.226.18.18, 13.226.18.97, ...\n",
            "Connecting to www.coursera.org (www.coursera.org)|13.226.18.63|:443... connected.\n",
            "HTTP request sent, awaiting response... 200 OK\n",
            "Length: 205639 (201K) [text/html]\n",
            "Saving to: ‘htypnjukraoapyadvoydbh.coursera-apps.org/tree/week4/Face Recognition/images/index.html’\n",
            "\n",
            "\r          htypnjukr   0%[                    ]       0  --.-KB/s               \rhtypnjukraoapyadvoy 100%[===================>] 200.82K  --.-KB/s    in 0.03s   \n",
            "\n",
            "2020-04-28 08:10:29 (6.15 MB/s) - ‘htypnjukraoapyadvoydbh.coursera-apps.org/tree/week4/Face Recognition/images/index.html’ saved [205639/205639]\n",
            "\n",
            "FINISHED --2020-04-28 08:10:29--\n",
            "Total wall clock time: 0.8s\n",
            "Downloaded: 1 files, 201K in 0.03s (6.15 MB/s)\n"
          ],
          "name": "stdout"
        }
      ]
    },
    {
      "cell_type": "code",
      "metadata": {
        "id": "Dp04D5voTpn9",
        "colab_type": "code",
        "colab": {}
      },
      "source": [
        "!rm -rf /content/htypnjukraoapyadvoydbh.coursera-apps.org"
      ],
      "execution_count": 0,
      "outputs": []
    },
    {
      "cell_type": "code",
      "metadata": {
        "id": "surnYsraURMg",
        "colab_type": "code",
        "outputId": "5c1d78d1-ff21-4c1f-8fe2-9c286eb6279a",
        "colab": {
          "base_uri": "https://localhost:8080/",
          "height": 469
        }
      },
      "source": [
        "!wget https://htypnjukraoapyadvoydbh.coursera-apps.org/files/week4/Face%20Recognition/images/dan.jpg"
      ],
      "execution_count": 32,
      "outputs": [
        {
          "output_type": "stream",
          "text": [
            "--2020-04-28 08:16:29--  https://htypnjukraoapyadvoydbh.coursera-apps.org/files/week4/Face%20Recognition/images/dan.jpg\n",
            "Resolving htypnjukraoapyadvoydbh.coursera-apps.org (htypnjukraoapyadvoydbh.coursera-apps.org)... 52.73.213.71, 34.193.180.235\n",
            "Connecting to htypnjukraoapyadvoydbh.coursera-apps.org (htypnjukraoapyadvoydbh.coursera-apps.org)|52.73.213.71|:443... connected.\n",
            "HTTP request sent, awaiting response... 307 Temporary Redirect\n",
            "Location: https://hub.coursera-apps.org:443/connect/htypnjukraoapyadvoydbh?forceRefresh=false [following]\n",
            "--2020-04-28 08:16:29--  https://hub.coursera-apps.org/connect/htypnjukraoapyadvoydbh?forceRefresh=false\n",
            "Resolving hub.coursera-apps.org (hub.coursera-apps.org)... 52.73.213.71, 34.193.180.235\n",
            "Connecting to hub.coursera-apps.org (hub.coursera-apps.org)|52.73.213.71|:443... connected.\n",
            "HTTP request sent, awaiting response... 303 See Other\n",
            "Location: https://coursera.org/workspaces/authenticate/htypnjukraoapyadvoydbh?forceRefresh=false [following]\n",
            "--2020-04-28 08:16:29--  https://coursera.org/workspaces/authenticate/htypnjukraoapyadvoydbh?forceRefresh=false\n",
            "Resolving coursera.org (coursera.org)... 13.249.87.12, 13.249.87.110, 13.249.87.67, ...\n",
            "Connecting to coursera.org (coursera.org)|13.249.87.12|:443... connected.\n",
            "HTTP request sent, awaiting response... 301 Moved Permanently\n",
            "Location: https://www.coursera.org/workspaces/authenticate/htypnjukraoapyadvoydbh?forceRefresh=false [following]\n",
            "--2020-04-28 08:16:29--  https://www.coursera.org/workspaces/authenticate/htypnjukraoapyadvoydbh?forceRefresh=false\n",
            "Resolving www.coursera.org (www.coursera.org)... 13.249.87.110, 13.249.87.12, 13.249.87.67, ...\n",
            "Connecting to www.coursera.org (www.coursera.org)|13.249.87.110|:443... connected.\n",
            "HTTP request sent, awaiting response... 200 OK\n",
            "Length: 205911 (201K) [text/html]\n",
            "Saving to: ‘dan.jpg’\n",
            "\n",
            "\rdan.jpg               0%[                    ]       0  --.-KB/s               \rdan.jpg             100%[===================>] 201.08K  --.-KB/s    in 0.03s   \n",
            "\n",
            "2020-04-28 08:16:30 (5.64 MB/s) - ‘dan.jpg’ saved [205911/205911]\n",
            "\n"
          ],
          "name": "stdout"
        }
      ]
    },
    {
      "cell_type": "code",
      "metadata": {
        "id": "jhIiuBhdVLm-",
        "colab_type": "code",
        "colab": {}
      },
      "source": [
        "db = {}"
      ],
      "execution_count": 0,
      "outputs": []
    },
    {
      "cell_type": "code",
      "metadata": {
        "id": "wlYsG5qLVbsD",
        "colab_type": "code",
        "colab": {}
      },
      "source": [
        "db['dan'] = img_path_to_encoding('dan.jpg',net)"
      ],
      "execution_count": 0,
      "outputs": []
    },
    {
      "cell_type": "code",
      "metadata": {
        "id": "Wq8pWcz5WAjJ",
        "colab_type": "code",
        "colab": {}
      },
      "source": [
        "def verify(img,id,db,model):\n",
        "  enc = img_path_to_encoding(img,model)\n",
        "  dist = np.linalg.norm(enc-db[id])\n",
        "  if dist<0.7:\n",
        "    recog = True\n",
        "    print(id)\n",
        "  else:\n",
        "    recog = False\n",
        "  \n",
        "  return recog,dist"
      ],
      "execution_count": 0,
      "outputs": []
    },
    {
      "cell_type": "code",
      "metadata": {
        "id": "hsXegStOWzpZ",
        "colab_type": "code",
        "outputId": "85ef5e9a-6eb7-48ac-e249-328203f2f7c6",
        "colab": {
          "base_uri": "https://localhost:8080/",
          "height": 52
        }
      },
      "source": [
        "verify('camera_4.jpg','dan',db,net)"
      ],
      "execution_count": 38,
      "outputs": [
        {
          "output_type": "stream",
          "text": [
            "dan\n"
          ],
          "name": "stdout"
        },
        {
          "output_type": "execute_result",
          "data": {
            "text/plain": [
              "(True, 0.2523857)"
            ]
          },
          "metadata": {
            "tags": []
          },
          "execution_count": 38
        }
      ]
    },
    {
      "cell_type": "code",
      "metadata": {
        "id": "uLdMiscuXLiL",
        "colab_type": "code",
        "colab": {}
      },
      "source": [
        "import matplotlib.pyplot as plt"
      ],
      "execution_count": 0,
      "outputs": []
    },
    {
      "cell_type": "code",
      "metadata": {
        "id": "R_uW8Z5m3lzG",
        "colab_type": "code",
        "colab": {
          "base_uri": "https://localhost:8080/",
          "height": 220
        },
        "outputId": "8cb431ab-4f72-4e8b-e945-d8b9f00c5e18"
      },
      "source": [
        "plt.subplot(1,2,1)\n",
        "im1 = cv2.imread('dan.jpg')\n",
        "plt.imshow(im1)\n",
        "plt.subplot(1,2,2)\n",
        "im2 = cv2.imread('camera_4.jpg')\n",
        "plt.imshow(im2)"
      ],
      "execution_count": 41,
      "outputs": [
        {
          "output_type": "execute_result",
          "data": {
            "text/plain": [
              "<matplotlib.image.AxesImage at 0x7fb2d0d7a470>"
            ]
          },
          "metadata": {
            "tags": []
          },
          "execution_count": 41
        },
        {
          "output_type": "display_data",
          "data": {
            "image/png": "[encoded data removed]",
            "text/plain": [
              "<Figure size 432x288 with 2 Axes>"
            ]
          },
          "metadata": {
            "tags": [],
            "needs_background": "light"
          }
        }
      ]
    },
    {
      "cell_type": "code",
      "metadata": {
        "id": "_QwtyLT83wZl",
        "colab_type": "code",
        "colab": {}
      },
      "source": [
        ""
      ],
      "execution_count": 0,
      "outputs": []
    }
  ]
}